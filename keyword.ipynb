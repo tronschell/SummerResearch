{
 "metadata": {
  "language_info": {
   "codemirror_mode": {
    "name": "ipython",
    "version": 3
   },
   "file_extension": ".py",
   "mimetype": "text/x-python",
   "name": "python",
   "nbconvert_exporter": "python",
   "pygments_lexer": "ipython3",
   "version": "3.9.5"
  },
  "orig_nbformat": 2,
  "kernelspec": {
   "name": "python395jvsc74a57bd087b2800b0c1b1ef7516301f78dddd1d50cc2355215b22447e1facc53db262490",
   "display_name": "Python 3.9.5 64-bit"
  },
  "metadata": {
   "interpreter": {
    "hash": "87b2800b0c1b1ef7516301f78dddd1d50cc2355215b22447e1facc53db262490"
   }
  }
 },
 "nbformat": 4,
 "nbformat_minor": 2,
 "cells": [
  {
   "cell_type": "code",
   "execution_count": 2,
   "metadata": {
    "tags": []
   },
   "outputs": [
    {
     "output_type": "stream",
     "name": "stdout",
     "text": [
      "['2020/0000002098\\\\10-K\\\\0001564590-21-017128\\\\filing-details.html', '2020/0000002178\\\\10-K\\\\0000002178-21-000034\\\\filing-details.html']\n",
      "COVID-19 : 33\n",
      "pandemic : 16\n",
      "Coronavirus : 0\n",
      "supply chain : 3\n",
      "supply-chain : 0\n",
      "COVID-19 : 23\n",
      "pandemic : 22\n",
      "Coronavirus : 3\n",
      "supply chain : 6\n",
      "supply-chain : 0\n",
      "COVID-19 : 15\n",
      "pandemic : 11\n",
      "Coronavirus : 2\n",
      "supply chain : 1\n",
      "supply-chain : 0\n",
      "COVID-19 : 30\n",
      "pandemic : 29\n",
      "Coronavirus : 2\n",
      "supply chain : 3\n",
      "supply-chain : 0\n",
      "COVID-19 : 12\n",
      "pandemic : 6\n",
      "Coronavirus : 0\n",
      "supply chain : 8\n",
      "supply-chain : 2\n",
      "COVID-19 : 39\n",
      "pandemic : 29\n",
      "Coronavirus : 1\n",
      "supply chain : 4\n",
      "supply-chain : 0\n",
      "COVID-19 : 10\n",
      "pandemic : 16\n",
      "Coronavirus : 0\n",
      "supply chain : 7\n",
      "supply-chain : 0\n",
      "COVID-19 : 24\n",
      "pandemic : 19\n",
      "Coronavirus : 0\n",
      "supply chain : 0\n",
      "supply-chain : 0\n",
      "COVID-19 : 22\n",
      "pandemic : 14\n",
      "Coronavirus : 1\n",
      "supply chain : 0\n",
      "supply-chain : 0\n",
      "COVID-19 : 37\n",
      "pandemic : 20\n",
      "Coronavirus : 0\n",
      "supply chain : 8\n",
      "supply-chain : 0\n",
      "COVID-19 : 28\n",
      "pandemic : 11\n",
      "Coronavirus : 0\n",
      "supply chain : 1\n",
      "supply-chain : 0\n",
      "COVID-19 : 26\n",
      "pandemic : 13\n",
      "Coronavirus : 2\n",
      "supply chain : 3\n",
      "supply-chain : 0\n",
      "COVID-19 : 38\n",
      "pandemic : 14\n",
      "Coronavirus : 3\n",
      "supply chain : 4\n",
      "supply-chain : 0\n"
     ]
    }
   ],
   "source": [
    "from bs4 import BeautifulSoup\n",
    "import os\n",
    "import re\n",
    "\n",
    "filings = os.listdir('2020/')\n",
    "documents = []\n",
    "wordlist = ['COVID-19', 'pandemic', 'Coronavirus', 'supply chain']\n",
    "\n",
    "\n",
    "'''\n",
    "for filing in range(len(filings)):\n",
    "    print(filings[filing])\n",
    "'''\n",
    "\n",
    "# Go through the directries with the stored 10-K forms and if they end with in .HTML, then add them to the documents list\n",
    "for root, dirs, files, in os.walk('2020/'):\n",
    "    for file in files:\n",
    "        if file.endswith('.html'):\n",
    "            documents.append(os.path.join(root, file))\n",
    "\n",
    "print(documents[1:3])\n",
    "\n",
    "# Find the keywords, then count how mnay keywords are in the list. Then output a file showing how mnay times the keywords were in the file.\n",
    "for i in range(0, 13):\n",
    "    path = str(documents[i])\n",
    "\n",
    "    with open(path, encoding='utf-8') as f:\n",
    "        soup = BeautifulSoup(f, 'html.parser')\n",
    "        # Now make it so that for every iteration, make a text file / CSV and output the occurences of the keywords in there\n",
    "        for y in range(len(wordlist)):\n",
    "            print(str(wordlist[y]), \":\",  len(soup.findAll(text=re.compile(str(wordlist[y])))))\n",
    "\n",
    "    \n"
   ]
  },
  {
   "cell_type": "code",
   "execution_count": null,
   "metadata": {},
   "outputs": [],
   "source": [
    "\n"
   ]
  }
 ]
}