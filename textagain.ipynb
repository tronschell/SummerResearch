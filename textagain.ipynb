{
 "metadata": {
  "language_info": {
   "codemirror_mode": {
    "name": "ipython",
    "version": 3
   },
   "file_extension": ".py",
   "mimetype": "text/x-python",
   "name": "python",
   "nbconvert_exporter": "python",
   "pygments_lexer": "ipython3",
   "version": "3.9.5"
  },
  "orig_nbformat": 2,
  "kernelspec": {
   "name": "python395jvsc74a57bd087b2800b0c1b1ef7516301f78dddd1d50cc2355215b22447e1facc53db262490",
   "display_name": "Python 3.9.5 64-bit"
  },
  "metadata": {
   "interpreter": {
    "hash": "87b2800b0c1b1ef7516301f78dddd1d50cc2355215b22447e1facc53db262490"
   }
  }
 },
 "nbformat": 4,
 "nbformat_minor": 2,
 "cells": [
  {
   "cell_type": "code",
   "execution_count": 3,
   "metadata": {
    "tags": []
   },
   "outputs": [
    {
     "output_type": "stream",
     "name": "stdout",
     "text": [
      "<SEC-DOCUMENT>0001564590-21-017128.txt : 20210331\n<SEC-HEADER>0001564590-21-017128.hdr.sgml : 20210331\n<ACCEPTANCE-DATETIME>20210331172713\nACCESSION NUMBER:\t\t0001564590-21-017128\nCONFORMED SUBMISSION TYPE:\t10-K\nPUBLIC DOCUMENT COUNT:\t\t92\nCONFORMED PERIOD OF REPORT:\t20201231\nFILED AS OF DATE:\t\t20210331\nDATE AS OF CHANGE:\t\t20210331\n\nFILER:\n\n\tCOMPANY DATA:\t\n\t\tCOMPANY CONFORMED NAME:\t\t\tACME UNITED CORP\n\t\tCENTRAL INDEX KEY:\t\t\t0000002098\n\t\tSTANDARD INDUSTRIAL CLASSIFICATION:\tCUTLERY, HANDTOOLS & GENERAL HARDWARE [3420]\n\t\tIRS NUMBER:\t\t\t\t060236700\n\t\tSTATE OF INCORPORATION:\t\t\tCT\n\t\tFISCAL YEAR END:\t\t\t1231\n\n\tFILING VALUES:\n\t\tFORM TYPE:\t\t10-K\n\t\tSEC ACT:\t\t1934 Act\n\t\tSEC FILE NUMBER:\t001-07698\n\t\tFILM NUMBER:\t\t21794776\n\n\tBUSINESS ADDRESS:\t\n\t\tSTREET 1:\t\t55 WALLS DRIVE\n\t\tCITY:\t\t\tFAIRFIELD\n\t\tSTATE:\t\t\tCT\n\t\tZIP:\t\t\t06824\n\t\tBUSINESS PHONE:\t\t203-254-6060\n\n\tMAIL ADDRESS:\t\n\t\tSTREET 1:\t\t55 WALLS DRIVE\n\t\tCITY:\t\t\tFAIRFIELD\n\t\tSTATE:\t\t\tCT\n\t\tZIP:\t\t\t06824\n\n\tFORMER COMPANY:\t\n\t\tFORMER CONFORMED NAME:\tACME SHEAR CO\n\t\tDATE OF NAME CHANGE:\t19710713\n</SEC-HEADER>\n<DOCUMENT>\n<TYPE>10-K\n<SEQUENCE>1\n<FILENAME>acu-10k_20201231.htm\n<DESCRIPTION>10-K\n<TEXT>\n<XBRL>\n<?xml  version=\"1.0\" encoding=\"utf-8\"?>\n<!-- DFIN ActiveDisclosure(SM) Inline XBRL Document - http://www.dfinsolutions.com/ -->\n<!-- Creation Date      : 2021-03\n"
     ]
    }
   ],
   "source": [
    "from bs4 import BeautifulSoup\n",
    "import pandas as pd\n",
    "import re\n",
    "\n",
    "documents = []\n",
    "\n",
    "for root, dirs, files, in os.walk('2020/'):\n",
    "    for file in files:\n",
    "        if file.endswith('.txt'):\n",
    "            documents.append(os.path.join(root, file))\n",
    "\n",
    "    with open(path, 'r') as f:\n",
    "        \n",
    "\n"
   ]
  },
  {
   "cell_type": "code",
   "execution_count": null,
   "metadata": {},
   "outputs": [],
   "source": []
  }
 ]
}